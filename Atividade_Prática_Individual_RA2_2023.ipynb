{
  "nbformat": 4,
  "nbformat_minor": 0,
  "metadata": {
    "colab": {
      "provenance": [],
      "include_colab_link": true
    },
    "kernelspec": {
      "name": "python3",
      "display_name": "Python 3"
    },
    "language_info": {
      "name": "python"
    }
  },
  "cells": [
    {
      "cell_type": "markdown",
      "metadata": {
        "id": "view-in-github",
        "colab_type": "text"
      },
      "source": [
        "<a href=\"https://colab.research.google.com/github/TacitusAnatolius/MFFP_Grupo1/blob/master/Atividade_Pr%C3%A1tica_Individual_RA2_2023.ipynb\" target=\"_parent\"><img src=\"https://colab.research.google.com/assets/colab-badge.svg\" alt=\"Open In Colab\"/></a>"
      ]
    },
    {
      "cell_type": "markdown",
      "source": [
        "**Atenção: Regras para a solução da atividade.** \n",
        "1. copie este caderno para a sua conta, criando as células de texto e código que forem necessárias após o enunciado de cada questão;\n",
        "2. não apague os enunciados; \n",
        "3. responda as questões na ordem em que elas se apresentam neste caderno;\n",
        "4. pode, e deve, consultar todo e qualquer recurso disponível na internet. Mas, não pode consultar nenhum outro ser humano. \n",
        "5. Poste no AVA (Canvas) o link para a sua resposta. Pode ser um link para a solução no Google Colab, ou um link para o caderno com suas respostas no Github.\n",
        "\n",
        "A violação de qualquer uma destas regras provoca a anulação da avaliação. \n",
        "\n",
        "Qualquer link que não possa ser executado a partir do link postado irá zerar a avaliação. \n",
        "\n",
        "Qualquer link que leve a uma pasta, arquivo comprimido, ou qualquer outro destino que não seja um caderno executável com as suas repostas provocará a anulação da questão. Teste usando outro navegador que não esteja logado nas suas contas. \n",
        "\n",
        "Qualquer link que não possa ser aberto, irá zerar a avaliação. \n",
        "\n",
        "Qualquer comunicação com outro ser humano irá zerar a avaliação.  "
      ],
      "metadata": {
        "id": "LZm0ilx8r7rp"
      }
    },
    {
      "cell_type": "markdown",
      "source": [
        "# Questão 1 (vale 6 pontos)\n",
        "Considerando as funções listadas a seguir faça: **(a)** o gráfico das três funções; **(b)** o passo a passo algébrico, em latex, para encontrar o ângulo de inclinação da reta tangente no ponto $x=5$ para cada das funções:\n",
        "\n",
        "1. $\n",
        "f(x) = (x^2 - 4)(x^3 - 7x + 1)\n",
        "$\n",
        "2. $\n",
        "f(x) = \\sin(x^2)\\cos(2x)\n",
        "$\n",
        "3.$\n",
        "f(x) = x^2e^{-x}\\ln(x)\n",
        "$\n",
        "\n",
        "Se você usar o sympy, terá que fazer com que ele imprima todos os passos necessários para resolver cada uma das operações, regras, ou tabelas que aplicar para resolver o problema.\n",
        "\n",
        "Em todas as questões você pode usar apenas os métodos, regras, técnicas e algoritmos que utilizamos na nossa disciplina, em sala, ou no material de apoio.\n"
      ],
      "metadata": {
        "id": "-KTPlfELYak-"
      }
    },
    {
      "cell_type": "markdown",
      "source": [],
      "metadata": {
        "id": "Lb_5INDar5eI"
      }
    },
    {
      "cell_type": "code",
      "source": [],
      "metadata": {
        "id": "nwUvYbaZals0"
      },
      "execution_count": null,
      "outputs": []
    },
    {
      "cell_type": "markdown",
      "source": [],
      "metadata": {
        "id": "_Qynwq3IctZD"
      }
    },
    {
      "cell_type": "markdown",
      "source": [
        "# Questão 2 (vale 2 pontos)\n",
        "Uma empresa espacial está tentando descobrir o ponto máximo da órbita de um satélite cuja função orbital é dada por: \n",
        "$$f(x)=x^4−5x^3+10x^2−10x+5$$\n",
        "\n",
        "Encontre o primeiro ponto de mínimo no intervalo $-10<=x<=10$.\n",
        "\n",
        "Como sempre, você pode usar qualquer ferramenta disponível na internet para lhe auxiliar a resolver este problema. Lembre-se, contudo, que o sympy é uma boa alternativa. Em todos os casos, você precisará indicar o passo a passo da aplicação de todas as regras, técnicas, matrizes, ou tabelas que use para resolver este problema.\n",
        "\n",
        "Em todas as questões você pode usar apenas os métodos, regras, técnicas e algoritmos que utilizamos na nossa disciplina, em sala, ou no material de apoio. Lembrem-se estamos limitados as bibliotecas sympy, numpy e matplotlib.\n",
        "\n",
        "Para resolver esta questão você precisará de, no minimo, 4 casas decimais de precisão depois da vírgula. "
      ],
      "metadata": {
        "id": "sV74soJci2vX"
      }
    },
    {
      "cell_type": "markdown",
      "source": [],
      "metadata": {
        "id": "04o87sFP_nRR"
      }
    },
    {
      "cell_type": "code",
      "source": [],
      "metadata": {
        "id": "2Ce8cqJhjYAt"
      },
      "execution_count": null,
      "outputs": []
    },
    {
      "cell_type": "markdown",
      "source": [
        "# Questão 3 (vale 2 pontos)\n",
        "Considerando a função $f(x,y) = \\sin(xy) + \\cos(x+y)$, no intervalo $0\\leq x\\leq 5 \\space\\space e \\space\\space 0\\leq y\\leq 5$ trace, usando o plotly o gráfico desta função e marque os pontos de máximo e mínimo neste intevalo.\n",
        "\n",
        "Lembre-se o sympy é sempre uma opção e você pode usar qualquer técnica, algoritmo, regra, ou tabela, que tenha sido usada na matéria. E que precisa de apenas uma casa decimal de precisão. Uma dica importante para a solução deste problema é a função **np.unravel_index**\n"
      ],
      "metadata": {
        "id": "jvEz4XOup7Qz"
      }
    },
    {
      "cell_type": "markdown",
      "source": [],
      "metadata": {
        "id": "maCYiKdb_ojx"
      }
    },
    {
      "cell_type": "code",
      "source": [],
      "metadata": {
        "id": "dQ_002nyo5T5"
      },
      "execution_count": null,
      "outputs": []
    }
  ]
}